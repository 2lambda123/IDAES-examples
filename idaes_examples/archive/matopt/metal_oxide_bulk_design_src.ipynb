{
 "cells": [
  {
   "cell_type": "code",
   "execution_count": null,
   "id": "0",
   "metadata": {
    "tags": [
     "header",
     "hide-cell"
    ]
   },
   "outputs": [],
   "source": [
    "###############################################################################\n",
    "# The Institute for the Design of Advanced Energy Systems Integrated Platform\n",
    "# Framework (IDAES IP) was produced under the DOE Institute for the\n",
    "# Design of Advanced Energy Systems (IDAES), and is copyright (c) 2018-2022\n",
    "# by the software owners: The Regents of the University of California, through\n",
    "# Lawrence Berkeley National Laboratory,  National Technology & Engineering\n",
    "# Solutions of Sandia, LLC, Carnegie Mellon University, West Virginia University\n",
    "# Research Corporation, et al.  All rights reserved.\n",
    "#\n",
    "# Please see the files COPYRIGHT.md and LICENSE.md for full copyright and\n",
    "# license information.\n",
    "###############################################################################"
   ]
  },
  {
   "cell_type": "markdown",
   "metadata": {},
   "source": [
    "# Perovskite Design\n",
    "\n",
    "This notebook serves as an example application of the MatOpt framework on bulk nanostructured materials. \n",
    "We consider the problem of how to optimally place dopant in a perovskite lattice. \n",
    "\n",
    "For more information, see:\n",
    "Hanselman, Christopher L., et al. \"A framework for optimizing oxygen vacancy formation in doped perovskites.\" *Computers & Chemical Engineering* 126 (2019): 168-177. DOI: [10.1016/j.compchemeng.2019.03.033](https://doi.org/10.1016/j.compchemeng.2019.03.033)"
   ]
  },
  {
   "cell_type": "markdown",
   "metadata": {},
   "source": [
    "## Importing Packages\n",
    "\n",
    "We start by importing MatOpt."
   ]
  },
  {
   "cell_type": "code",
   "execution_count": null,
   "metadata": {},
   "outputs": [],
   "source": [
    "import numpy as np\n",
    "from idaes.apps.matopt import *"
   ]
  },
  {
   "cell_type": "markdown",
   "metadata": {},
   "source": [
    "## Representing Materials\n",
    "\n",
    "First, we construct a ***Lattice*** object to hold information about the sites in our material. For this application, we use the ***PerovskiteLattice*** class with lattice constants *A*, *B*, and *C*. "
   ]
  },
  {
   "cell_type": "code",
   "execution_count": null,
   "metadata": {},
   "outputs": [],
   "source": [
    "A = 4.0\n",
    "B = 4.0\n",
    "C = 4.0\n",
    "Lat = PerovskiteLattice(A, B, C)"
   ]
  },
  {
   "cell_type": "markdown",
   "metadata": {},
   "source": [
    "Next, we construct ***Shape*** and ***Tiling*** objects to help define the material locations of interest. In this case, we use ***RectPrism*** and ***CubicTiling***, respectively. \n",
    "\n",
    "Note that we shift the shape slightly to avoid ambiguity about which sites on the border of the cell should be included. "
   ]
  },
  {
   "cell_type": "code",
   "execution_count": null,
   "metadata": {},
   "outputs": [],
   "source": [
    "nUnitCellsOnEdge = 2\n",
    "S = RectPrism(nUnitCellsOnEdge * A, nUnitCellsOnEdge * B, nUnitCellsOnEdge * C)\n",
    "S.shift(np.array([-0.01, -0.01, -0.01]))\n",
    "T = CubicTiling(S)"
   ]
  },
  {
   "cell_type": "markdown",
   "metadata": {},
   "source": [
    "Next, we construct the ***Canvas*** object which will hold all the information about the sites and information about neighbors. We also define a list of ***Atom*** objects that serve as the building blocks of our material."
   ]
  },
  {
   "cell_type": "code",
   "execution_count": null,
   "metadata": {},
   "outputs": [],
   "source": [
    "Canv = Canvas.fromLatticeAndTilingScan(Lat, T)\n",
    "Atoms = [Atom(\"Ba\"), Atom(\"Fe\"), Atom(\"In\"), Atom(\"O\")]"
   ]
  },
  {
   "cell_type": "markdown",
   "metadata": {},
   "source": [
    "Finally, we load a list of conformations from file that represent a set of dopant configurations that we would like to indicate in the design. "
   ]
  },
  {
   "cell_type": "code",
   "execution_count": null,
   "metadata": {},
   "outputs": [],
   "source": [
    "from tempfile import TemporaryDirectory\n",
    "from zipfile import ZipFile\n",
    "\n",
    "iDesiredConfs = [\n",
    "    394,\n",
    "    395,\n",
    "    396,\n",
    "    397,\n",
    "    398,\n",
    "    399,\n",
    "    400,\n",
    "    401,\n",
    "    68,\n",
    "    69,\n",
    "    70,\n",
    "    71,\n",
    "    162,\n",
    "    163,\n",
    "    164,\n",
    "    165,\n",
    "    166,\n",
    "    167,\n",
    "    168,\n",
    "    169,\n",
    "]\n",
    "with TemporaryDirectory() as ConfDir:\n",
    "    ZipFile(\"./confs.zip\").extractall(ConfDir)\n",
    "    ConfDesigns = loadFromPDBs(\n",
    "        [str(i) + \".pdb\" for i in iDesiredConfs], folder=ConfDir + \"/confs/\"\n",
    "    )\n",
    "Confs = [Conf.Contents for Conf in ConfDesigns]"
   ]
  },
  {
   "cell_type": "markdown",
   "metadata": {},
   "source": [
    "## Building the Model\n",
    "\n",
    "To begin specifying the model, we first define several pieces of information that will help specify the design problem."
   ]
  },
  {
   "cell_type": "code",
   "execution_count": null,
   "metadata": {},
   "outputs": [],
   "source": [
    "Sites = [i for i in range(len(Canv))]\n",
    "ASites = [i for i in Sites if Lat.isASite(Canv.Points[i])]\n",
    "BSites = [i for i in Sites if Lat.isBSite(Canv.Points[i])]\n",
    "OSites = [i for i in Sites if Lat.isOSite(Canv.Points[i])]\n",
    "pctLocalLB, pctLocalUB = 0, 1\n",
    "pctGlobalLB, pctGlobalUB = 0.0, 0.3\n",
    "LocalBounds = {\n",
    "    (i, Atom(\"In\")): (\n",
    "        round(pctLocalLB * len(Canv.NeighborhoodIndexes[i])),\n",
    "        round(pctLocalUB * len(Canv.NeighborhoodIndexes[i])),\n",
    "    )\n",
    "    for i in OSites\n",
    "}\n",
    "GlobalLB = round(pctGlobalLB * len(BSites))\n",
    "GlobalUB = round(pctGlobalUB * len(BSites))"
   ]
  },
  {
   "cell_type": "markdown",
   "metadata": {},
   "source": [
    "Next, we initialize a ***MatOptModel*** object that will hold all the information about material descriptors and desired functionalities. "
   ]
  },
  {
   "cell_type": "code",
   "execution_count": null,
   "metadata": {},
   "outputs": [],
   "source": [
    "m = MatOptModel(Canv, Atoms, Confs)"
   ]
  },
  {
   "cell_type": "markdown",
   "metadata": {},
   "source": [
    "By default, several basic variables are pre-defined. See the first example, ***Monometallic_Nanocluster_Design.ipynb*** for a description of basic variables, expressions, and constraint rules."
   ]
  },
  {
   "cell_type": "markdown",
   "metadata": {},
   "source": [
    "For this system, we introduce several rules about the allowed placement of atoms in the design. First, we require that all A-sites in the material are occupied by Ba. Next, we require that all O-sites are occupied by O. Thirdly, we forbid Ba and O from being placed in B-sites. And finally, we require that some atom be placed in each B-site. These four rules  effectively limit the scope of the optimization to focus on the labeling of B-sites as either Fe or In. "
   ]
  },
  {
   "cell_type": "code",
   "execution_count": null,
   "metadata": {},
   "outputs": [],
   "source": [
    "m.Yik.rules.append(FixedTo(1, sites=ASites, site_types=[Atom(\"Ba\")]))\n",
    "m.Yik.rules.append(FixedTo(1, sites=OSites, site_types=[Atom(\"O\")]))\n",
    "m.Yik.rules.append(FixedTo(0, sites=BSites, site_types=[Atom(\"Ba\"), Atom(\"O\")]))\n",
    "m.Yi.rules.append(FixedTo(1, sites=BSites))"
   ]
  },
  {
   "cell_type": "markdown",
   "metadata": {},
   "source": [
    "To specify additional constraints to the model, we create several descriptors for the activity, local dopant concentration, and the global dopant concentration. \n",
    "\n",
    "Notice that in each case, we specify a subset of locations or atoms of interest. This is because, for example, our material activity depends on oxygen sites only and it would be nonsensical to try to interpret one of the conformations on a different type of site. Similarly, the dopant budgets are written only over In atoms and not on Ba, Fe, or O. "
   ]
  },
  {
   "cell_type": "code",
   "execution_count": null,
   "metadata": {},
   "outputs": [],
   "source": [
    "m.addGlobalDescriptor(\n",
    "    \"Activity\",\n",
    "    rules=EqualTo(SumSitesAndConfs(m.Zic, coefs=1 / len(OSites), sites_to_sum=OSites)),\n",
    ")\n",
    "m.addGlobalTypesDescriptor(\n",
    "    \"GlobalIndiumConc\",\n",
    "    bounds=(GlobalLB, GlobalUB),\n",
    "    rules=EqualTo(SumSites(m.Yik, site_types=[Atom(\"In\")], sites_to_sum=BSites)),\n",
    ")\n",
    "m.addSitesTypesDescriptor(\n",
    "    \"LocalIndiumConc\",\n",
    "    bounds=LocalBounds,\n",
    "    rules=EqualTo(SumNeighborSites(m.Yik, sites=OSites, site_types=[Atom(\"In\")])),\n",
    ")"
   ]
  },
  {
   "cell_type": "markdown",
   "metadata": {},
   "source": [
    "## Solving the Model\n",
    "\n",
    "Given a fully formed model, we can optimize by maximizing or minimizing one of the global descriptors."
   ]
  },
  {
   "cell_type": "code",
   "execution_count": null,
   "metadata": {},
   "outputs": [],
   "source": [
    "D = None\n",
    "try:\n",
    "    D = m.maximize(m.Activity, tilim=360)\n",
    "except:\n",
    "    print(\"MaOpt can not find usable solver (CPLEX or NEOS-CPLEX)\")"
   ]
  },
  {
   "cell_type": "markdown",
   "metadata": {},
   "source": [
    "## Processing Solutions\n",
    "\n",
    "If the optimizer was successful in finding an optimal (or just feasible) solution, we can plot the resulting design to any of several standard file formats. However, it is often useful to modify the design to highlight key features. Here, we label all O-sites that constitute one of the desired conformations by replacing the atom with an S."
   ]
  },
  {
   "cell_type": "code",
   "execution_count": null,
   "metadata": {},
   "outputs": [],
   "source": [
    "if D is not None:\n",
    "    for i, c in m.Zic.keys():\n",
    "        if m.Zic.values[i, c] > 0.5:\n",
    "            D.setContent(i, Atom(\"S\"))\n",
    "    D.toCFG(\"result.cfg\", BBox=S)"
   ]
  }
 ],
 "metadata": {
  "kernelspec": {
   "display_name": "Python 3",
   "language": "python",
   "name": "python3"
  },
  "language_info": {
   "codemirror_mode": {
    "name": "ipython",
    "version": 3
   },
   "file_extension": ".py",
   "mimetype": "text/x-python",
   "name": "python",
   "nbconvert_exporter": "python",
   "pygments_lexer": "ipython3",
   "version": "3.7.6"
  }
 },
 "nbformat": 4,
 "nbformat_minor": 2
}
