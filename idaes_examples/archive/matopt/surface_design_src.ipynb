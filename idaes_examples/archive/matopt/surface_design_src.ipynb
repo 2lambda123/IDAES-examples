{
 "cells": [
  {
   "cell_type": "code",
   "execution_count": null,
   "id": "0",
   "metadata": {
    "tags": [
     "header",
     "hide-cell"
    ]
   },
   "outputs": [],
   "source": [
    "###############################################################################\n",
    "# The Institute for the Design of Advanced Energy Systems Integrated Platform\n",
    "# Framework (IDAES IP) was produced under the DOE Institute for the\n",
    "# Design of Advanced Energy Systems (IDAES), and is copyright (c) 2018-2022\n",
    "# by the software owners: The Regents of the University of California, through\n",
    "# Lawrence Berkeley National Laboratory,  National Technology & Engineering\n",
    "# Solutions of Sandia, LLC, Carnegie Mellon University, West Virginia University\n",
    "# Research Corporation, et al.  All rights reserved.\n",
    "#\n",
    "# Please see the files COPYRIGHT.md and LICENSE.md for full copyright and\n",
    "# license information.\n",
    "###############################################################################"
   ]
  },
  {
   "cell_type": "markdown",
   "metadata": {},
   "source": [
    "# Surface Design\n",
    "This notebook serves as an example application of the MatOpt framework.\n",
    "We consider an example optimization problem of designing a monometallic nanostructured catalyst surface.\n",
    "\n",
    "For more information, see: Hanselman, Christopher L. and Gounaris, Chrysanthos E. \"A mathematical optimization framework for the design of nanopatterned surfaces.\" *AIChE Journal* 62 (2016): 3250-3263. DOI: [10.1002/aic.15359](https://aiche.onlinelibrary.wiley.com/doi/abs/10.1002/aic.15359)"
   ]
  },
  {
   "cell_type": "markdown",
   "metadata": {},
   "source": [
    "## Importing Packages\n",
    "We start by importing several standard Python modules for convienience. "
   ]
  },
  {
   "cell_type": "code",
   "execution_count": null,
   "metadata": {},
   "outputs": [],
   "source": [
    "import numpy as np\n",
    "from copy import deepcopy"
   ]
  },
  {
   "cell_type": "markdown",
   "metadata": {},
   "source": [
    "Next, we import MatOpt."
   ]
  },
  {
   "cell_type": "code",
   "execution_count": null,
   "metadata": {},
   "outputs": [],
   "source": [
    "from idaes.apps.matopt import *"
   ]
  },
  {
   "cell_type": "markdown",
   "metadata": {},
   "source": [
    "## Representing Materials\n",
    "To begin, we define a **Lattice** object. In this example, **FCCLattice** is the appropriate a child class of Lattice. This object will serve to define neighbor connections and helps us generically create other objects. We construct our lattice from a class method constructor for FCC lattices aligned with the {111} plane. "
   ]
  },
  {
   "cell_type": "code",
   "execution_count": null,
   "metadata": {},
   "outputs": [],
   "source": [
    "IAD = 2.828427  # Angstrom\n",
    "Lat = FCCLattice.alignedWith111(IAD)"
   ]
  },
  {
   "cell_type": "markdown",
   "metadata": {},
   "source": [
    "Next, we define a **Shape** object that we will use to specify a design space. Additionally, in this example our design space is periodic, so we will define a **Tiling** object to hold information about the periodicity. In this example, **Parallelepiped** and **PlanarTiling** are the appropriate child classes for these objects, respectively.\n",
    "\n",
    "Note that we shift the shape of our design space slightly, in order to avoid confusion about which lattice sites that lie perfectly on the shape facet should be included."
   ]
  },
  {
   "cell_type": "code",
   "execution_count": null,
   "metadata": {},
   "outputs": [],
   "source": [
    "nUnitCellsOnEdge = 4\n",
    "nLayers = 6\n",
    "a = nUnitCellsOnEdge * IAD\n",
    "b = a\n",
    "c = nLayers * Lat.FCC111LayerSpacing\n",
    "alpha = np.pi / 2\n",
    "beta = np.pi / 2\n",
    "gamma = np.pi / 3\n",
    "S = Parallelepiped.fromEdgesAndAngles(a, b, c, alpha, beta, gamma)\n",
    "S.shift(np.array([-0.01 * a, -0.01 * b, -0.01 * c]))\n",
    "T = PlanarTiling(S)"
   ]
  },
  {
   "cell_type": "markdown",
   "metadata": {},
   "source": [
    "Given the parameters for a design space, we can construct a **Canvas** object to hold information about points and nearest neighbors. In this example, the object is efficiently constructed from a scan over lattice sites. In general, the Canvas can be constructed and manipulated via user-defined algorithms."
   ]
  },
  {
   "cell_type": "code",
   "execution_count": null,
   "metadata": {},
   "outputs": [],
   "source": [
    "Canv = Canvas.fromLatticeAndTilingScan(Lat, T)"
   ]
  },
  {
   "cell_type": "markdown",
   "metadata": {},
   "source": [
    "The Canvas object hold information about the design space and the lattice sites, but it does not specify any material building block information. To represent material configurations, use a **Design** object. \n",
    "\n",
    "Initially, the Design is empty. There are several ways to place **Atom** (i.e., building block) objects in a Design. In this example, we are considering a Pt surface for the oxygen reduction reaction. We can initialize a design representing the FCC {111} surface by using a standard constructor for the Design object.\n",
    "\n",
    "To debug our work so far, we can create material structure files to load and plot with standard visualization tools such as AtomEye. Here, we create PDB (protein data bank format, www.rcsb.org) and CFG (AtomEye configuration, li.mit.edu/A/Graphics/A/) files for the design. These files can be plotted with visualization packages such as AtomEye or OVITO."
   ]
  },
  {
   "cell_type": "code",
   "execution_count": null,
   "metadata": {},
   "outputs": [],
   "source": [
    "D = Design(Canv, Atom(\"Pt\"))\n",
    "D.toPDB(\"undefected.pdb\")\n",
    "D.toCFG(\"undefected.cfg\", GS=1.0, BBox=S)"
   ]
  },
  {
   "cell_type": "markdown",
   "metadata": {},
   "source": [
    "## Building a Model\n",
    "\n",
    "In this example, we will build a model that maximizes the number of sites that are reactive for the oxygen reduction reaction (ORR). More generally, our model will indicate sites that are within a certain tolerance of a target generalized coordination number (GCN). These target sites can also be constrained to lie within minimum and maximum coordination number to be considered surface sites. \n",
    "\n",
    "Additionally, we model the surface energy of nanostructured designs. This surface energy can be constrained to be below a threshold and can be included in the objective function. We can parametrically optimize the multi-objective optimization problem by defining a weighting, *CatWeight*, that controls how much weight is given to the catalytic activity term in the objective function. A weighting of 1 corresponds to the optimally active material and a weighting of 0 corresponds to the lowest surface energy design. \n"
   ]
  },
  {
   "cell_type": "code",
   "execution_count": null,
   "metadata": {},
   "outputs": [],
   "source": [
    "Atoms = [Atom(\"Pt\")]\n",
    "TargetGCN = 8.0\n",
    "CNsurfMin = 3\n",
    "CNsurfMax = 9\n",
    "TileSizeSquared = nUnitCellsOnEdge**2\n",
    "UndefectedSurfE = 0.129758\n",
    "maxSurfE = 999\n",
    "CatWeight = 1.0"
   ]
  },
  {
   "cell_type": "markdown",
   "metadata": {},
   "source": [
    "To begin, we start by creating a ***MatOptModel*** object to hold information about the model. "
   ]
  },
  {
   "cell_type": "code",
   "execution_count": null,
   "metadata": {},
   "outputs": [],
   "source": [
    "m = MatOptModel(Canv, Atoms)"
   ]
  },
  {
   "cell_type": "markdown",
   "metadata": {},
   "source": [
    "By default, several basic variables are pre-defined. See the first example, ***Monometallic_Nanocluster_Design.ipynb*** for a description of basic variables, expressions, and constraint rules."
   ]
  },
  {
   "cell_type": "markdown",
   "metadata": {},
   "source": [
    "First, we introduce two rules to fix special sites in the design. \n",
    "We fix the bottom two layers of atoms to exist, creating underlying bulk layers above which we will introduce nanostruced defets.\n",
    "We also fix an arbitrary atom in the top layer, breaking symetry of the design space and resulting in easier to solve opitmization problems without actually restricting the designs that can be possibly represented. "
   ]
  },
  {
   "cell_type": "code",
   "execution_count": null,
   "metadata": {},
   "outputs": [],
   "source": [
    "CanvTwoBotLayers = [\n",
    "    i for i in range(len(Canv)) if Canv.Points[i][2] < 1.5 * Lat.FCC111LayerSpacing\n",
    "]\n",
    "CanvMinusTwoBotLayers = [i for i in range(len(Canv)) if i not in CanvTwoBotLayers]\n",
    "OneSiteInTopLayer = [\n",
    "    min(\n",
    "        [\n",
    "            i\n",
    "            for i in range(len(Canv))\n",
    "            if Canv.Points[i][2] > (nLayers - 1.5) * Lat.FCC111LayerSpacing\n",
    "        ]\n",
    "    )\n",
    "]\n",
    "m.Yi.rules.append(FixedTo(1, sites=OneSiteInTopLayer))\n",
    "m.Yi.rules.append(FixedTo(1, sites=CanvTwoBotLayers))"
   ]
  },
  {
   "cell_type": "markdown",
   "metadata": {},
   "source": [
    "Next, we introduce constraints thtat require atoms to be placed on top of each other, avoiding hollow pockets below the surface. "
   ]
  },
  {
   "cell_type": "code",
   "execution_count": null,
   "metadata": {},
   "outputs": [],
   "source": [
    "NeighborsBelow = [\n",
    "    [\n",
    "        j\n",
    "        for j in Canv.NeighborhoodIndexes[i]\n",
    "        if (j is not None and Canv.Points[j][2] < Canv.Points[i][2] - DBL_TOL)\n",
    "    ]\n",
    "    for i in range(len(Canv))\n",
    "]\n",
    "m.Yi.rules.append(\n",
    "    ImpliesNeighbors(\n",
    "        concs=(m.Yi, GreaterThan(1)),\n",
    "        sites=CanvMinusTwoBotLayers,\n",
    "        neighborhoods=NeighborsBelow,\n",
    "    )\n",
    ")"
   ]
  },
  {
   "cell_type": "markdown",
   "metadata": {},
   "source": [
    "Next, we introduce several rules for the geometric and reactive descriptors of sites in the design. \n",
    "We define the generalized coordination number according to a linear equality constraint. \n",
    "Then, we define ideal sites as having a conjunction of requirements on the generalized coordination number, and regular coordination number. \n",
    "Finally, we define activity as the count of sites with target coordination number. "
   ]
  },
  {
   "cell_type": "code",
   "execution_count": null,
   "metadata": {},
   "outputs": [],
   "source": [
    "m.addSitesDescriptor(\n",
    "    \"GCNi\",\n",
    "    bounds=(0, 12),\n",
    "    integer=False,\n",
    "    rules=EqualTo(SumNeighborSites(desc=m.Ci, coefs=1 / 12)),\n",
    "    sites=CanvMinusTwoBotLayers,\n",
    ")\n",
    "m.addSitesDescriptor(\n",
    "    \"IdealSitei\",\n",
    "    binary=True,\n",
    "    rules=[\n",
    "        Implies(concs=(m.Ci, GreaterThan(3))),\n",
    "        Implies(concs=(m.Ci, LessThan(9))),\n",
    "        Implies(concs=(m.GCNi, EqualTo(TargetGCN))),\n",
    "    ],\n",
    "    sites=CanvMinusTwoBotLayers,\n",
    ")\n",
    "m.addGlobalDescriptor(\n",
    "    \"Activity\",\n",
    "    bounds=(0, 1),\n",
    "    rules=EqualTo(SumSites(m.IdealSitei, coefs=1 / TileSizeSquared)),\n",
    ")"
   ]
  },
  {
   "cell_type": "markdown",
   "metadata": {},
   "source": [
    "Next, we define a simple model for the surface energy of nanostructured slabs as a piecwise linear function of coordination number. "
   ]
  },
  {
   "cell_type": "code",
   "execution_count": null,
   "metadata": {},
   "outputs": [],
   "source": [
    "EiVals = [0, -0.04293 * 3 + 0.41492, -0.04293 * 10 + 0.41492, 0.05179 * 11 - 0.62148, 0]\n",
    "EiBPs = [0, 3, 10, 11, 12]\n",
    "m.addSitesDescriptor(\n",
    "    \"Ei\",\n",
    "    rules=PiecewiseLinear(values=EiVals, breakpoints=EiBPs, input_desc=m.Ci),\n",
    "    sites=CanvMinusTwoBotLayers,\n",
    ")\n",
    "m.addGlobalDescriptor(\n",
    "    \"Esurf\",\n",
    "    bounds=(None, maxSurfE),\n",
    "    rules=EqualTo(SumSites(m.Ei, coefs=1 / TileSizeSquared, offset=0.101208)),\n",
    ")\n",
    "m.addGlobalDescriptor(\n",
    "    \"Stability\", rules=EqualTo(LinearExpr(m.Esurf, 1 / UndefectedSurfE))\n",
    ")"
   ]
  },
  {
   "cell_type": "markdown",
   "metadata": {},
   "source": [
    "Finally,  we introduce a descriptor for the weighted combination of activity and stability. "
   ]
  },
  {
   "cell_type": "code",
   "execution_count": null,
   "metadata": {},
   "outputs": [],
   "source": [
    "m.addGlobalDescriptor(\n",
    "    \"ActAndStab\",\n",
    "    rules=EqualTo(\n",
    "        LinearExpr(descs=[m.Stability, m.Activity], coefs=[-(1 - CatWeight), CatWeight])\n",
    "    ),\n",
    ")"
   ]
  },
  {
   "cell_type": "markdown",
   "metadata": {},
   "source": [
    "## Solving the Model\n",
    "\n",
    "Given a fully formed Pyomo model, we have several capabilities to optimize and visualize the solution. \n",
    "In this example, we simply call the maximize method to optimize the balance of activity and stability"
   ]
  },
  {
   "cell_type": "code",
   "execution_count": null,
   "metadata": {},
   "outputs": [],
   "source": [
    "D = None\n",
    "try:\n",
    "    D = m.maximize(m.ActAndStab, tilim=360)\n",
    "except:\n",
    "    print(\"MaOpt can not find usable solver (CPLEX or NEOS-CPLEX)\")"
   ]
  },
  {
   "cell_type": "markdown",
   "metadata": {},
   "source": [
    "## Processing Solutions\n",
    "Once the model is solved, we can plot the resulting design. However, it is often useful to label atoms according to some auxilliary information. In this case, we would like to label atoms that consitute ideal reactive sites. We loop over the sites and set the atom to S to highlight the sites that are reactive. Then, we can write the Design object to PDB or CFG files for plotting.\n",
    "\n",
    "Additionally, we can manipulate the resulting design to better see the periodic pattern. Here, we replicate the design four times to see the periodic pattern. "
   ]
  },
  {
   "cell_type": "code",
   "execution_count": null,
   "metadata": {},
   "outputs": [],
   "source": [
    "if D is not None:\n",
    "    for i in m.IdealSitei.keys():\n",
    "        if m.IdealSitei.values[i] > 0.5:\n",
    "            D.setContent(i, Atom(\"S\"))\n",
    "    D.toPDB(\"result.pdb\")\n",
    "    PeriodicD = T.replicateDesign(D, 4)\n",
    "    PeriodicS = deepcopy(S)\n",
    "    PeriodicS.scale(np.array([4, 4, 1]))\n",
    "    PeriodicD.toCFG(\"periodic_result.cfg\", BBox=PeriodicS)"
   ]
  }
 ],
 "metadata": {
  "kernelspec": {
   "display_name": "Python 3",
   "language": "python",
   "name": "python3"
  },
  "language_info": {
   "codemirror_mode": {
    "name": "ipython",
    "version": 3
   },
   "file_extension": ".py",
   "mimetype": "text/x-python",
   "name": "python",
   "nbconvert_exporter": "python",
   "pygments_lexer": "ipython3",
   "version": "3.7.3"
  }
 },
 "nbformat": 4,
 "nbformat_minor": 2
}
