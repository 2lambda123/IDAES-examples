{
 "cells": [
  {
   "cell_type": "code",
   "execution_count": null,
   "id": "0",
   "metadata": {
    "tags": [
     "header",
     "hide-cell"
    ]
   },
   "outputs": [],
   "source": [
    "###############################################################################\n",
    "# The Institute for the Design of Advanced Energy Systems Integrated Platform\n",
    "# Framework (IDAES IP) was produced under the DOE Institute for the\n",
    "# Design of Advanced Energy Systems (IDAES), and is copyright (c) 2018-2022\n",
    "# by the software owners: The Regents of the University of California, through\n",
    "# Lawrence Berkeley National Laboratory,  National Technology & Engineering\n",
    "# Solutions of Sandia, LLC, Carnegie Mellon University, West Virginia University\n",
    "# Research Corporation, et al.  All rights reserved.\n",
    "#\n",
    "# Please see the files COPYRIGHT.md and LICENSE.md for full copyright and\n",
    "# license information.\n",
    "###############################################################################"
   ]
  },
  {
   "cell_type": "markdown",
   "metadata": {},
   "source": [
    "# Nanowire Design\n",
    "This notebook serves as an example application of the MatOpt framework.\n",
    "We consider an example optimization problem of designing a semiconductor compound nanowire."
   ]
  },
  {
   "cell_type": "markdown",
   "metadata": {},
   "source": [
    "## Importing Packages\n",
    "We start by importing several standard Python modules for convienience. "
   ]
  },
  {
   "cell_type": "code",
   "execution_count": null,
   "metadata": {},
   "outputs": [],
   "source": [
    "import numpy as np\n",
    "from copy import deepcopy"
   ]
  },
  {
   "cell_type": "markdown",
   "metadata": {},
   "source": [
    "Next, we import MatOpt."
   ]
  },
  {
   "cell_type": "code",
   "execution_count": null,
   "metadata": {},
   "outputs": [],
   "source": [
    "from idaes.apps.matopt import *"
   ]
  },
  {
   "cell_type": "markdown",
   "metadata": {},
   "source": [
    "## Representing Materials\n",
    "To begin, we define a **Lattice** object. For semiconductor materials, **WurtziteLattice** is an appropriate type of lattice. This object will serve to define neighbor connections and helps us generically create other objects. We construct our lattice from a class method constructor that aligns the resulting lattice with certain orientations expressed by hexagonal Miller Indices. "
   ]
  },
  {
   "cell_type": "code",
   "execution_count": null,
   "metadata": {},
   "outputs": [],
   "source": [
    "IAD = 3.7265  # Angstrom\n",
    "orientation = \"0001\"\n",
    "lattice = WurtziteLattice.alignedWith(IAD, orientation)"
   ]
  },
  {
   "cell_type": "markdown",
   "metadata": {},
   "source": [
    "Next, we define a **Shape** object that we will use to specify a design space. Additionally, in this example our design space is linearly periodic, so we will define a **Tiling** object to hold information about the periodicity. In this example, **Cylinder** and **LinearTiling** are the appropriate types, respectively.\n",
    "\n",
    "Note that we shift the shape of our design space slightly, in order to avoid confusion about which lattice sites (out of those that lie perfectly on the shape facet) should be included."
   ]
  },
  {
   "cell_type": "code",
   "execution_count": null,
   "metadata": {},
   "outputs": [],
   "source": [
    "nAtomRadius = 6\n",
    "nAtomUnitLength = 2\n",
    "origin = np.zeros(3, dtype=float)\n",
    "axisDirection = np.array([0, 0, 1], dtype=float)\n",
    "radius = lattice.getShellSpacing(orientation) * (nAtomRadius - 1)\n",
    "height = (\n",
    "    lattice.getLayerSpacing(orientation)\n",
    "    * lattice.getUniqueLayerCount(orientation)\n",
    "    * nAtomUnitLength\n",
    ")\n",
    "shape = Cylinder(origin, radius, height, axisDirection)\n",
    "shape.shift(-0.001 * shape.Vh)\n",
    "tiling = LinearTiling.fromCylindricalShape(shape)"
   ]
  },
  {
   "cell_type": "markdown",
   "metadata": {},
   "source": [
    "Given the parameters for a design space, we can construct a **Canvas** object to hold information about lattice locations and nearest neighbors. In this example, the object is first constructed from `lattice` and `shape` and then made periodic with `tiling`. A Canvas can be constructed and manipulated via user-defined algorithms."
   ]
  },
  {
   "cell_type": "code",
   "execution_count": null,
   "metadata": {},
   "outputs": [],
   "source": [
    "canvas = Canvas.fromLatticeAndShape(lattice, shape)\n",
    "canvas.makePeriodic(tiling, lattice.getNeighbors)"
   ]
  },
  {
   "cell_type": "markdown",
   "metadata": {},
   "source": [
    "The `canvas` object holds information about the design space and the lattice sites, but it does not specify any material building block information. In this example, we are considering an InAs nanowire. To represent material configurations, we will use a **Design** object. We first construct an empty Design from `canvas` and then place **Atom** (i.e., building block) objects into this Design via methods provided by `lattice`.\n",
    "\n",
    "To debug our work so far, we can create material structure files to load and plot with standard visualization tools. Here, we create a PDB (protein data bank format, www.rcsb.org) file for the Design object. These files can be plotted with visualization packages such as AtomEye or OVITO."
   ]
  },
  {
   "cell_type": "code",
   "execution_count": null,
   "metadata": {},
   "outputs": [],
   "source": [
    "design = Design(canvas)\n",
    "lattice.setDesign(design, Atom(\"In\"), Atom(\"As\"))\n",
    "design.toPDB(\"canvas.pdb\")"
   ]
  },
  {
   "cell_type": "markdown",
   "metadata": {},
   "source": [
    "## Building a Model\n",
    "\n",
    "In this example, we will build a model that maximizes the cohesive energy of the nanowire as an indicator of it's thermal stability. To begin, we start by creating a **MatOptModel** object to hold information about the model. Notice that we use a list of empty atoms as our set of building blocks because we will use a cohesive energy function for semiconductor materials that is indepedent of atom types. Thus, we do not need to specify the types of building blocks in our model."
   ]
  },
  {
   "cell_type": "code",
   "execution_count": null,
   "metadata": {},
   "outputs": [],
   "source": [
    "m = MatOptModel(canvas, [Atom(\"\")])"
   ]
  },
  {
   "cell_type": "markdown",
   "metadata": {},
   "source": [
    "By default, several basic variables are pre-defined. See the first example, ***Monometallic_Nanocluster_Design.ipynb*** for a description of basic variables, expressions, and constraint rules."
   ]
  },
  {
   "cell_type": "markdown",
   "metadata": {},
   "source": [
    "First, we fix the core layers of the nanowire specified by the ratio of the core radius and the canvas radius."
   ]
  },
  {
   "cell_type": "code",
   "execution_count": null,
   "metadata": {},
   "outputs": [],
   "source": [
    "coreRatio = 0.2\n",
    "CoreLayers = [\n",
    "    i\n",
    "    for i, p in enumerate(canvas.Points)\n",
    "    if p[0] ** 2 + p[1] ** 2 < (coreRatio * radius) ** 2\n",
    "]\n",
    "m.Yi.rules.append(FixedTo(1, sites=CoreLayers))"
   ]
  },
  {
   "cell_type": "markdown",
   "metadata": {},
   "source": [
    "Next, we introduce constraints that require atoms to be placed on top of each other radially, avoiding hollow pockets below the surface. "
   ]
  },
  {
   "cell_type": "code",
   "execution_count": null,
   "metadata": {},
   "outputs": [],
   "source": [
    "CanvasMinusCoreLayers = [i for i, p in enumerate(canvas.Points) if i not in CoreLayers]\n",
    "NeighborsInside = [\n",
    "    [\n",
    "        j\n",
    "        for j in canvas.NeighborhoodIndexes[i]\n",
    "        if (\n",
    "            j is not None\n",
    "            and canvas.Points[j][0] ** 2 + canvas.Points[j][1] ** 2\n",
    "            < p[0] ** 2 + p[1] ** 2 - DBL_TOL\n",
    "        )\n",
    "    ]\n",
    "    for i, p in enumerate(canvas.Points)\n",
    "]\n",
    "m.Yi.rules.append(\n",
    "    ImpliesNeighbors(\n",
    "        concs=(m.Yi, GreaterThan(1)),\n",
    "        sites=CanvasMinusCoreLayers,\n",
    "        neighborhoods=NeighborsInside,\n",
    "    )\n",
    ")"
   ]
  },
  {
   "cell_type": "markdown",
   "metadata": {},
   "source": [
    "Next, we define a descriptor for each site's contribution to the overall cohesion as a function of each site's coordination environment. We derive this individual atom contribution from the Khor-Das Sarma-type empirical potential energy function. The parameters come from the literature. "
   ]
  },
  {
   "cell_type": "code",
   "execution_count": null,
   "metadata": {},
   "outputs": [],
   "source": [
    "CNBounds = (0, 4)\n",
    "p = -0.22479870084561238\n",
    "q = -0.9092660150083058\n",
    "alpha = -0.3684513\n",
    "BPs = list(range(CNBounds[0], CNBounds[1] + 1))\n",
    "Vals = [(p * pow(cn, 1 - alpha) - q * cn) for cn in BPs]\n",
    "m.addSitesDescriptor(\n",
    "    \"Vi\",\n",
    "    bounds=(min(Vals), max(Vals)),\n",
    "    rules=PiecewiseLinear(values=Vals, breakpoints=BPs, input_desc=m.Ci, con_type=\"UB\"),\n",
    ")"
   ]
  },
  {
   "cell_type": "markdown",
   "metadata": {},
   "source": [
    "Next, we define the cohesive energy as a sum of contributions from all `Vi` descriptors."
   ]
  },
  {
   "cell_type": "code",
   "execution_count": null,
   "metadata": {},
   "outputs": [],
   "source": [
    "size = 216\n",
    "m.addGlobalDescriptor(\"Ecoh\", rules=EqualTo(SumSites(desc=m.Vi, coefs=(1.0 / size))))"
   ]
  },
  {
   "cell_type": "markdown",
   "metadata": {},
   "source": [
    "Finally, we add constraints on the size and composition of the resulting designs."
   ]
  },
  {
   "cell_type": "code",
   "execution_count": null,
   "metadata": {},
   "outputs": [],
   "source": [
    "m.addGlobalDescriptor(\"Size\", bounds=(size, size), rules=EqualTo(SumSites(desc=m.Yi)))"
   ]
  },
  {
   "cell_type": "markdown",
   "metadata": {},
   "source": [
    "## Solving the Model\n",
    "\n",
    "Given a fully formed Pyomo model, we have several capabilities to optimize and visualize the solution. \n",
    "In this example, we simply call the `maximize` method to optimize the cohesive energy."
   ]
  },
  {
   "cell_type": "code",
   "execution_count": null,
   "metadata": {},
   "outputs": [],
   "source": [
    "optimalDesign = None\n",
    "try:\n",
    "    optimalDesign = m.maximize(m.Ecoh, tilim=360, solver=\"cplex\")\n",
    "except:\n",
    "    print(\"MaOpt can not find usable solver (CPLEX or NEOS-CPLEX)\")"
   ]
  },
  {
   "cell_type": "markdown",
   "metadata": {},
   "source": [
    "## Processing Solutions\n",
    "Once the model is solved, we can plot the resulting design. In this case, we will first label atoms with their identities and then replicate the design four times to better visualize the periodic pattern. "
   ]
  },
  {
   "cell_type": "code",
   "execution_count": null,
   "metadata": {},
   "outputs": [],
   "source": [
    "if optimalDesign is not None:\n",
    "    for i, p in enumerate(optimalDesign.Canvas.Points):\n",
    "        if optimalDesign.Contents[i] is not None:\n",
    "            if lattice.isASite(p):\n",
    "                optimalDesign.setContent(i, Atom(\"In\"))\n",
    "            elif lattice.isBSite(p):\n",
    "                optimalDesign.setContent(i, Atom(\"As\"))\n",
    "    optimalDesign.toPDB(\"result.pdb\")\n",
    "    periodicDesign = deepcopy(optimalDesign)\n",
    "    for k in range(4):\n",
    "        for i, p in enumerate(optimalDesign.Canvas.Points):\n",
    "            periodicDesign.add(p + (k + 1) * shape.Vh, optimalDesign.Contents[i])\n",
    "    for k in range(4):\n",
    "        for i, p in enumerate(optimalDesign.Canvas.Points):\n",
    "            periodicDesign.add(p - (k + 1) * shape.Vh, optimalDesign.Contents[i])\n",
    "    periodicDesign.toPDB(\"periodic_result.pdb\")"
   ]
  }
 ],
 "metadata": {
  "kernelspec": {
   "display_name": "Python 3",
   "language": "python",
   "name": "python3"
  },
  "language_info": {
   "codemirror_mode": {
    "name": "ipython",
    "version": 3
   },
   "file_extension": ".py",
   "mimetype": "text/x-python",
   "name": "python",
   "nbconvert_exporter": "python",
   "pygments_lexer": "ipython3",
   "version": "3.8.5"
  }
 },
 "nbformat": 4,
 "nbformat_minor": 2
}
