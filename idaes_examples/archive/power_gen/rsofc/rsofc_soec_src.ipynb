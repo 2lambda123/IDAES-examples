{
 "cells": [
  {
   "cell_type": "code",
   "execution_count": null,
   "id": "0",
   "metadata": {
    "tags": [
     "header",
     "hide-cell"
    ]
   },
   "outputs": [],
   "source": [
    "###############################################################################\n",
    "# The Institute for the Design of Advanced Energy Systems Integrated Platform\n",
    "# Framework (IDAES IP) was produced under the DOE Institute for the\n",
    "# Design of Advanced Energy Systems (IDAES), and is copyright (c) 2018-2022\n",
    "# by the software owners: The Regents of the University of California, through\n",
    "# Lawrence Berkeley National Laboratory,  National Technology & Engineering\n",
    "# Solutions of Sandia, LLC, Carnegie Mellon University, West Virginia University\n",
    "# Research Corporation, et al.  All rights reserved.\n",
    "#\n",
    "# Please see the files COPYRIGHT.md and LICENSE.md for full copyright and\n",
    "# license information.\n",
    "###############################################################################"
   ]
  },
  {
   "cell_type": "markdown",
   "id": "1",
   "metadata": {},
   "source": [
    "# Design flowsheet for the SOEC mode of a reversible Solid Oxide Cell"
   ]
  },
  {
   "cell_type": "markdown",
   "id": "2",
   "metadata": {},
   "source": [
    "### Process Flow Diagram"
   ]
  },
  {
   "cell_type": "code",
   "execution_count": null,
   "id": "3",
   "metadata": {},
   "outputs": [],
   "source": [
    "from IPython.core.display import SVG\n",
    "\n",
    "SVG(filename=\"rsofc_soec_mode_PFD.svg\")"
   ]
  },
  {
   "cell_type": "markdown",
   "id": "4",
   "metadata": {},
   "source": [
    "## 1. Introduction\n",
    "The figure above shows the process flow diagram of the rSOC (reversible solid oxide cell) plant in SOEC (solid oxide electrolysis cell) mode. The plant consists of five major sections: the ASU (air separation unit), the SOEC power island, the CPU (CO2 purification unit), the HRSG (heat recovery steam generator) and steam cycle.\n",
    "\n",
    "In the SOEC mode, the rSOC operates by using steam as fuel to produce Hydrogen on its fuel side (cathode side), while air is used as sweep gas to remove diffused oxygen from its air side (anode side). To provide air to the air side of the rSOC, ambient air is compressed in an air blower and preheated via two preheaters to reach the required temperature to sweep through the air side. The oxygen rich air stream which exits the air side of the rSOC is used to preheat the fresh air feed in the first air preheater, subsequently it is split in a splitter and used to preheat oxygen from the ASU in the oxygen preheater and natural gas feed in the natural gas preheater. Finally, the oxygen rich air streams from both the oxygen and natural gas preheaters are sent to the HRSG where they are further cooled before release to the atmosphere.\n",
    "\n",
    "This flowsheet example provides an off-design model for the rSOC in SOEC mode for hydrogen production up to **5 kg/s** with 98% CO2 capture."
   ]
  },
  {
   "cell_type": "markdown",
   "id": "5",
   "metadata": {},
   "source": [
    "## 2. Import Required Modules\n",
    "- **pyomo environment**. The pyomo environment\n",
    "- **rsofc_soec_flowsheet**. Contains functions for the work flow of building and solving the flowsheet. See the rsofc_soec_flowsheet.py file for more details.\n",
    "- **rsofc_costing**. Contains costing methods for the soec and sofc operating modes of the reversible sofc. See the rsofc_costing.py file for more details.\n"
   ]
  },
  {
   "cell_type": "code",
   "execution_count": null,
   "id": "6",
   "metadata": {},
   "outputs": [],
   "source": [
    "import pyomo.environ as pyo\n",
    "import rsofc_soec_flowsheet as rsoec\n",
    "import rsofc_costing as rsofc_cost"
   ]
  },
  {
   "cell_type": "markdown",
   "id": "7",
   "metadata": {},
   "source": [
    "## 3. Build and initialize the flowsheet\n",
    "- A pyomo concrete model is built\n",
    "- The **get_model** function in the **rsofc_soec_flowsheet.py** file takes the concrete model as an argument then sets up a flowsheet called **m.soec_fs**, and all the required unit models to it. Finally, the completed flowsheet is initialized. The concrete model and solver options are then returned."
   ]
  },
  {
   "cell_type": "code",
   "execution_count": null,
   "id": "8",
   "metadata": {},
   "outputs": [],
   "source": [
    "m = pyo.ConcreteModel()\n",
    "m, solver = rsoec.get_model(m)"
   ]
  },
  {
   "cell_type": "markdown",
   "id": "9",
   "metadata": {},
   "source": [
    "## 4. Base case optimization example\n",
    "An example of optimizing the variable operating costs of the model at its base case production of 5 kg/s using the **base_case_optimization** function is shown below. The model also has functions to run a base case simulation (**base_case_simulation**) \n",
    "and optimize the variable operating cost of the process over the production range of 1 to 5 kg/s (**optimize_model**)"
   ]
  },
  {
   "cell_type": "code",
   "execution_count": null,
   "id": "10",
   "metadata": {},
   "outputs": [],
   "source": [
    "rsoec.tags_inputs_opt_vars(\n",
    "    m.soec_fs\n",
    ")  # this function adds tags for the optimization variables\n",
    "rsofc_cost.get_rsofc_soec_variable_OM_costing(m.soec_fs)\n",
    "rsoec.base_case_optimization(m, solver)"
   ]
  },
  {
   "cell_type": "markdown",
   "id": "11",
   "metadata": {},
   "source": [
    "## 5. Results"
   ]
  },
  {
   "cell_type": "markdown",
   "id": "12",
   "metadata": {},
   "source": [
    "### a. Input and optimization variables"
   ]
  },
  {
   "cell_type": "code",
   "execution_count": null,
   "id": "13",
   "metadata": {},
   "outputs": [],
   "source": [
    "rsoec.display_input_tags(m.soec_fs)"
   ]
  },
  {
   "cell_type": "markdown",
   "id": "14",
   "metadata": {},
   "source": [
    "### b. Stream tables"
   ]
  },
  {
   "cell_type": "code",
   "execution_count": null,
   "id": "15",
   "metadata": {},
   "outputs": [],
   "source": [
    "stream_table = rsoec.stream_tables(m.soec_fs)\n",
    "stream_table = stream_table.fillna(\"\")  # replace NaN with blank\n",
    "display(stream_table)"
   ]
  },
  {
   "cell_type": "markdown",
   "id": "16",
   "metadata": {},
   "source": [
    "### c. Print results table"
   ]
  },
  {
   "cell_type": "code",
   "execution_count": null,
   "id": "17",
   "metadata": {},
   "outputs": [],
   "source": [
    "result_variables = rsoec.initialize_results(m.soec_fs)\n",
    "results_table = rsoec.results_table_dataframe(result_variables)\n",
    "print(\"========================== Overall Results ========================\")\n",
    "print()\n",
    "print(results_table)"
   ]
  },
  {
   "cell_type": "code",
   "execution_count": null,
   "id": "18",
   "metadata": {},
   "outputs": [],
   "source": []
  }
 ],
 "metadata": {
  "celltoolbar": "Tags",
  "kernelspec": {
   "display_name": "Python 3 (ipykernel)",
   "language": "python",
   "name": "python3"
  },
  "language_info": {
   "codemirror_mode": {
    "name": "ipython",
    "version": 3
   },
   "file_extension": ".py",
   "mimetype": "text/x-python",
   "name": "python",
   "nbconvert_exporter": "python",
   "pygments_lexer": "ipython3",
   "version": "3.8.12"
  }
 },
 "nbformat": 4,
 "nbformat_minor": 5
}
