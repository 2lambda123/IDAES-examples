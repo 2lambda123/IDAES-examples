{
 "cells": [
  {
   "cell_type": "code",
   "execution_count": null,
   "id": "0",
   "metadata": {
    "tags": [
     "header",
     "hide-cell"
    ]
   },
   "outputs": [],
   "source": [
    "###############################################################################\n",
    "# The Institute for the Design of Advanced Energy Systems Integrated Platform\n",
    "# Framework (IDAES IP) was produced under the DOE Institute for the\n",
    "# Design of Advanced Energy Systems (IDAES), and is copyright (c) 2018-2022\n",
    "# by the software owners: The Regents of the University of California, through\n",
    "# Lawrence Berkeley National Laboratory,  National Technology & Engineering\n",
    "# Solutions of Sandia, LLC, Carnegie Mellon University, West Virginia University\n",
    "# Research Corporation, et al.  All rights reserved.\n",
    "#\n",
    "# Please see the files COPYRIGHT.md and LICENSE.md for full copyright and\n",
    "# license information.\n",
    "###############################################################################"
   ]
  },
  {
   "cell_type": "markdown",
   "metadata": {},
   "source": [
    "# Subcritical Power Plant Flowsheet Example\n",
    "## Subcritical Boiler Recirculation System\n",
    "\n",
    "This example demonstrates a steady-state simulation of a subcritical pulverized coal boiler - recirculation system only. The boiler maintains circulation through the steam drum, downcomer, and waterwall by natural circulation. Natural circulation boilers rely on feedwater temperature and the resulting density differences in the drum and vertical tubes in the waterwall to promote circulation by gravity. See the ```supercritical_steam_cycle.py``` for more information on how to assemble the flowsheet.\n",
    "\n",
    "This example does not represent any particular power plant but should be a reasonable approximation of a subcritical boiler (recirculation system)."
   ]
  },
  {
   "cell_type": "markdown",
   "metadata": {},
   "source": [
    "## 1. Introduction\n",
    "\n",
    "This example demonstrates a simulation of a subcritical pulverized coal boiler - recirculation system only. \n",
    "```subcritical_boiler.py``` includes four modules (main, create_model, initialize and set_inputs). \n",
    "\n",
    "The ```main()``` function creates the Pyomo concrete model and calls for the other functions to build the flowsheet, set inputs, initialize each unit, and solve the flowsheet.\n",
    "\n",
    "The ```create_model()``` function imports three units from power plant library (drum, downcomer, and waterwall sections). \n",
    "Then, it builds two arcs one to connect the drum liquid outlet to the downcomer tube/pipe model, and the other to connect the downcomer outlet to the first section of the waterwall sections model (first from bottom up). The waterwall sections model consists of several tube models interconnected, where, the outlet of each section connects with the next section. Finally, the last section connects with the drum (water_steam_inlet). \n",
    "\n",
    "In the drum the water steam mixture is separated, and the vapor leaves the top of the drum (as steam outlet). The separation is calculated using the IAPWS95 steam properties. Feedwater enters the drum from the economizer. The steam leaving the ```drum``` is heated in the superheaters, using hot flue gases, before it passes to the high-pressure turbine inlet as main steam. At this point superheaters have not been included in this simulation.\n",
    "\n",
    "The ```initialize()``` function uses the initial guess to initialize the models. Each model at the time, and using the solution from the previous interconnected model. \n",
    "The ```set_inputs()``` function unfixes the inlet streams of the intermediate units and fixes the appropiate variables (feedwater_inlet flow_mol and enth_mol)."
   ]
  },
  {
   "cell_type": "markdown",
   "metadata": {},
   "source": [
    "# 2. Problem Statement \n",
    "\n",
    "For a given feedwater flowrate and enthalpy, heat duty to each water wall section, drum level, and unit dimensions, calculate the drum steam outlet, slag temperature at each water wall section, inlet pressure of the feedwater system, and recirculation flowrate of the system.\n",
    "\n",
    "## 2.1. Main Inputs: \n",
    "- FeedWater Inlet (F - mol/s, h - j/mol) from the economizer\n",
    "- Drum: drum level - m, number of downcomers, and dimensions\n",
    "- Downcomer: number of downcomer tubes, and dimensions\n",
    "- Waterwall Section: number of water wall sections, slag thickness, and tube dimensions\n",
    "- Heat Duty (in Watts) from fire side of the boiler, for this simplified simulation heat duty to each water wall section is fixed\n",
    "\n",
    "## 2.2. Main Outputs:\n",
    "- Streams (F - mol/s, P - Pa, h - j/mol)\n",
    "- Feedwater pressure (Pa)\n",
    "- vapor fraction in raisers (waterwall sections)\n",
    "- slag temperature (used in heat fire side model in the future) (in K)\n",
    "- recirculation flowrate of the system (mol/s)"
   ]
  },
  {
   "cell_type": "code",
   "execution_count": null,
   "metadata": {},
   "outputs": [],
   "source": [
    "from IPython.display import Image\n",
    "\n",
    "Image(\"sub_boiler_1.png\")"
   ]
  },
  {
   "cell_type": "markdown",
   "metadata": {},
   "source": [
    "## 3. Results"
   ]
  },
  {
   "cell_type": "code",
   "execution_count": null,
   "metadata": {},
   "outputs": [],
   "source": [
    "import os\n",
    "\n",
    "# Import Pyomo libraries\n",
    "import pyomo.environ as pyo\n",
    "from pyomo.network import Arc\n",
    "\n",
    "# Import IDAES core\n",
    "from idaes.core import FlowsheetBlock\n",
    "from idaes.core.util.model_statistics import degrees_of_freedom\n",
    "from idaes.core.util import model_serializer as ms\n",
    "import idaes.core.util.scaling as iscale\n",
    "\n",
    "# Import Unit Model Modules\n",
    "from idaes.models.properties import iapws95\n",
    "\n",
    "# Import IDAES standard unit model\n",
    "import idaes.logger as idaeslog\n",
    "from idaes.models_extra.power_generation.unit_models.drum import Drum\n",
    "from idaes.models_extra.power_generation.unit_models.downcomer import Downcomer\n",
    "from idaes.models_extra.power_generation.unit_models.waterwall_section import (\n",
    "    WaterwallSection,\n",
    ")\n",
    "from idaes.models_extra.power_generation.properties.flue_gas_ideal import (\n",
    "    FlueGasParameterBlock,\n",
    ")\n",
    "\n",
    "# import subcritical functions\n",
    "import idaes.models_extra.power_generation.flowsheets.subcritical_power_plant.subcritical_boiler as sub\n",
    "\n",
    "\n",
    "# Create a Concrete Model as the top level object\n",
    "m = pyo.ConcreteModel()\n",
    "# Add a flowsheet object to the model\n",
    "m.fs = FlowsheetBlock(dynamic=False)\n",
    "# Add property packages to flowsheet library\n",
    "m.fs.prop_water = iapws95.Iapws95ParameterBlock()\n",
    "m.fs.prop_gas = FlueGasParameterBlock()\n",
    "\n",
    "# create drum, downcomer, waterwall section models and connections\n",
    "sub.create_model(m)\n",
    "# set inputs (equipment dimensions and inlet conditions)\n",
    "sub.set_inputs(m)\n",
    "# initialize each model at the time\n",
    "sub.initialize(m, outlvl=0)"
   ]
  },
  {
   "cell_type": "code",
   "execution_count": null,
   "metadata": {},
   "outputs": [],
   "source": [
    "# solve simulation with fixed feedwater inlet flowrate and enthalpy, fixed heat duty to waterwalls, and fixed drum level.\n",
    "solver = pyo.SolverFactory(\"ipopt\")\n",
    "optarg = {\"tol\": 1e-6, \"max_iter\": 20}\n",
    "solver.options = optarg\n",
    "\n",
    "# fix inlets\n",
    "m.fs.drum.feedwater_inlet.flow_mol[:].fix()\n",
    "m.fs.drum.feedwater_inlet.pressure[:].unfix()\n",
    "m.fs.drum.feedwater_inlet.enth_mol[:].fix()\n",
    "\n",
    "# set scaling parameters\n",
    "for i in m.fs.ww_zones:\n",
    "    iscale.set_scaling_factor(m.fs.Waterwalls[i].heat_flux_conv[0], 1e-5)\n",
    "iscale.calculate_scaling_factors(m)\n",
    "\n",
    "# solve IDAES flowsheet\n",
    "results = solver.solve(m, tee=True)\n",
    "\n",
    "# print custom results\n",
    "print(\"\\nDrum feedwater inlet\")\n",
    "m.fs.drum.feedwater_inlet.display()\n",
    "print(\"\\nWaterWall Outlet\")\n",
    "m.fs.drum.water_steam_inlet.display()\n",
    "print(\"\\ndowncomer inlet\")\n",
    "m.fs.downcomer.inlet.display()\n",
    "print(\"\\nwaterwall inlet\")\n",
    "m.fs.Waterwalls[1].inlet.display()"
   ]
  },
  {
   "cell_type": "markdown",
   "metadata": {},
   "source": [
    "## 3.1. Sensitivity Analysis 1: Slag Layer Thickness\n",
    "\n",
    "This sensitivity analysis demonstrates one of the main features of the waterwall section model, by computing the temperature of the slag deposited on the tube surface. The results show that for a given fire side heat duty for each zone the slag layer temperature in each water wall section increases when slag layer thickness increase. \n",
    "\n",
    "The slag temperature is a very important parameter, because if slag temperature exceeds the melting temperature, this can cause fast build up of slag layer and may cause damage of the boiler waterwall. "
   ]
  },
  {
   "cell_type": "code",
   "execution_count": null,
   "metadata": {},
   "outputs": [],
   "source": [
    "# slack thickness (upper bound 0.009)\n",
    "slag_thk = [0.001, 0.002, 0.003]\n",
    "\n",
    "steam_outlet = []\n",
    "vap_frac = []\n",
    "slag_temp = []\n",
    "count = 0\n",
    "for i in slag_thk:\n",
    "    count = count + 1\n",
    "    m.fs.Waterwalls[1].slag_thickness.fix(i)\n",
    "    m.fs.Waterwalls[2].slag_thickness.fix(i)\n",
    "    m.fs.Waterwalls[3].slag_thickness.fix(i)\n",
    "    m.fs.Waterwalls[4].slag_thickness.fix(i)\n",
    "    m.fs.Waterwalls[5].slag_thickness.fix(i)\n",
    "    m.fs.Waterwalls[6].slag_thickness.fix(i)\n",
    "    m.fs.Waterwalls[7].slag_thickness.fix(i)\n",
    "    m.fs.Waterwalls[8].slag_thickness.fix(i)\n",
    "    m.fs.Waterwalls[9].slag_thickness.fix(i)\n",
    "    m.fs.Waterwalls[10].slag_thickness.fix(i)\n",
    "\n",
    "    results = solver.solve(m, tee=False)\n",
    "    if results.solver.termination_condition == pyo.TerminationCondition.optimal:\n",
    "        print(\"iter \" + str(count) + \" = EXIT- Optimal Solution Found.\")\n",
    "    else:\n",
    "        print(\"iter \" + str(count) + \" = infeasible\")\n",
    "    steam_outlet.append(pyo.value(m.fs.drum.steam_outlet.flow_mol[0]))\n",
    "    vap_frac.append(\n",
    "        pyo.value(m.fs.Waterwalls[10].control_volume.properties_out[0].vapor_frac)\n",
    "    )\n",
    "    slag_temp.append(pyo.value(m.fs.Waterwalls[10].temp_slag_boundary[0]))"
   ]
  },
  {
   "cell_type": "markdown",
   "metadata": {},
   "source": [
    "## 3.1. Results\n",
    "As it can be observed below, the steam flowrate and vapor fraction have not been impacted by incrementing the slag thickness, however, the slag temperature increased considerably. In reality, the slag thickness impacts the heat transfer in the system, therefore, the heat to the water wall must change. The model did not capture this issue because heat transfer is fixed. An integrated fire-water side model would capture this phenomenon and change the heat to the waterwall, obtaning different steam outlet and vapor fractions."
   ]
  },
  {
   "cell_type": "code",
   "execution_count": null,
   "metadata": {},
   "outputs": [],
   "source": [
    "print(\"Vapor flowrate from drum mol/s\")\n",
    "print(steam_outlet)\n",
    "print(\"\\nVapor fraction from waterwall section 10\")\n",
    "print(vap_frac)\n",
    "print(\"\\nSlag temperature in K\")\n",
    "print(slag_temp)"
   ]
  },
  {
   "cell_type": "markdown",
   "metadata": {},
   "source": [
    "## 3.2. Sensitivity Analysis 2: Boiler Load\n",
    "\n",
    "The heat transfer and energy balance play a very important role in this system, for example, since the drum level and pressure are fixed, the heat transfer rate (or heat duty) to the water side will determine the amount of steam produced.\n",
    "\n",
    "This sensitivity analysis demonstrates that increasing the boiler load or coal flowrate (in this case incrementing the heat duty) results in increasing the feedwater flowrate and therefore the flowrate of steam leaving the drum unit.\n",
    "\n",
    "Degrees of Freedom:\n",
    "In this case, the system is fully determined by fixing the feedwater_inlet enthalpy and pressure, drum level, and heat duty to water wall. Then we perform several simulations by gradually increasing the heat duty to the waterwalls and calculating the feedwater_inlet flowrate for each case."
   ]
  },
  {
   "cell_type": "code",
   "execution_count": null,
   "metadata": {},
   "outputs": [],
   "source": [
    "# reload initial point\n",
    "from idaes.core.util import model_serializer as ms\n",
    "\n",
    "ms.from_json(m, fname=\"subcritical_boiler_init.json.gz\")\n",
    "\n",
    "# create dictionaries to store results\n",
    "vap_frac = []  # vapor fraction outlet (zone 10)\n",
    "flow = []  # feedwater flowrate\n",
    "recir_flow = []  # recirculation flow\n",
    "recir_ratio = []  # recirculation ratio\n",
    "slag_temp = []  # slag layer temperature\n",
    "\n",
    "# incrementing 10 % each run\n",
    "flow_it = [\n",
    "    1.1,\n",
    "    1.2,\n",
    "    1.3,\n",
    "    1.4,\n",
    "    1.5,\n",
    "    1.6,\n",
    "    1.7,\n",
    "    1.8,\n",
    "    1.9,\n",
    "    2.0,\n",
    "    2.1,\n",
    "    2.2,\n",
    "    2.3,\n",
    "    2.4,\n",
    "    2.5,\n",
    "    2.6,\n",
    "    2.7,\n",
    "    2.8,\n",
    "    2.9,\n",
    "    3.0,\n",
    "]\n",
    "count1 = 0\n",
    "for i in flow_it:\n",
    "    count1 = count1 + 1\n",
    "    m.fs.Waterwalls[1].heat_fireside[:].fix(2.3e7 * i)\n",
    "    m.fs.Waterwalls[2].heat_fireside[:].fix(1.5e7 * i)\n",
    "    m.fs.Waterwalls[3].heat_fireside[:].fix(6.8e6 * i)\n",
    "    m.fs.Waterwalls[4].heat_fireside[:].fix(1.2e7 * i)\n",
    "    m.fs.Waterwalls[5].heat_fireside[:].fix(1.2e7 * i)\n",
    "    m.fs.Waterwalls[6].heat_fireside[:].fix(1.2e7 * i)\n",
    "    m.fs.Waterwalls[7].heat_fireside[:].fix(1.0e7 * i)\n",
    "    m.fs.Waterwalls[8].heat_fireside[:].fix(9.9e6 * i)\n",
    "    m.fs.Waterwalls[9].heat_fireside[:].fix(2.1e7 * i)\n",
    "    m.fs.Waterwalls[10].heat_fireside[:].fix(2.0e7 * i)\n",
    "    # unfix flowrate\n",
    "    m.fs.drum.feedwater_inlet.flow_mol[:].unfix()\n",
    "    m.fs.drum.feedwater_inlet.pressure[:].fix()\n",
    "    m.fs.drum.feedwater_inlet.enth_mol[:].fix()\n",
    "    results = solver.solve(m, tee=False)\n",
    "    if results.solver.termination_condition == pyo.TerminationCondition.optimal:\n",
    "        print(\"iter \" + str(count1) + \" = EXIT- Optimal Solution Found.\")\n",
    "    else:\n",
    "        print(\"iter \" + str(count1) + \" = infeasible\")\n",
    "    vap_frac.append(\n",
    "        pyo.value(m.fs.Waterwalls[10].control_volume.properties_out[0].vapor_frac)\n",
    "    )\n",
    "    # recirculation flowrate\n",
    "    recir_flow.append(pyo.value(m.fs.drum.flash.liq_outlet.flow_mol[0]))\n",
    "    # recirculation ratio\n",
    "    recir_ratio.append(\n",
    "        pyo.value(\n",
    "            m.fs.drum.flash.liq_outlet.flow_mol[0]\n",
    "            / m.fs.drum.feedwater_inlet.flow_mol[0]\n",
    "        )\n",
    "    )\n",
    "    # feedwater flowrate\n",
    "    flow.append(pyo.value(m.fs.drum.feedwater_inlet.flow_mol[0]))\n",
    "    # slag layer temperature\n",
    "    slag_temp.append(pyo.value(m.fs.Waterwalls[10].temp_slag_boundary[0]))"
   ]
  },
  {
   "cell_type": "code",
   "execution_count": null,
   "metadata": {},
   "outputs": [],
   "source": [
    "# import plotting libraries\n",
    "import matplotlib.pyplot as plt\n",
    "import numpy as np\n",
    "\n",
    "x = []\n",
    "for i in flow_it:\n",
    "    x.append((i - 1) * 100)\n",
    "\n",
    "fig = plt.figure()\n",
    "ax = fig.add_subplot(1, 1, 1)\n",
    "ax.plot(x, flow, label=str(\"feedwater (steam) flowrate\"))\n",
    "plt.legend()\n",
    "ax.set_xlabel(\"heat duty - % increment\")\n",
    "ax.set_ylabel(\"Flowrate mol/s\")\n",
    "plt.show()"
   ]
  },
  {
   "cell_type": "code",
   "execution_count": null,
   "metadata": {},
   "outputs": [],
   "source": [
    "fig = plt.figure()\n",
    "ax = fig.add_subplot(1, 1, 1)\n",
    "ax.plot(x, recir_flow, label=str(\"recirculation flowrate\"))\n",
    "plt.legend()\n",
    "ax.set_xlabel(\"heat duty - % increment\")\n",
    "ax.set_ylabel(\"Flowrate mol/s\")\n",
    "plt.show()"
   ]
  },
  {
   "cell_type": "code",
   "execution_count": null,
   "metadata": {},
   "outputs": [],
   "source": [
    "fig = plt.figure()\n",
    "ax = fig.add_subplot(1, 1, 1)\n",
    "ax.plot(x, recir_ratio, label=str(\"recirculation ratio\"))\n",
    "plt.legend()\n",
    "ax.set_xlabel(\"heat duty - % increment\")\n",
    "ax.set_ylabel(\"ratio\")\n",
    "plt.show()"
   ]
  },
  {
   "cell_type": "code",
   "execution_count": null,
   "metadata": {},
   "outputs": [],
   "source": [
    "fig = plt.figure()\n",
    "ax = fig.add_subplot(1, 1, 1)\n",
    "ax.plot(x, slag_temp, label=str(\"slag layer temperature\"))\n",
    "plt.legend()\n",
    "ax.set_xlabel(\"heat duty - % increment\")\n",
    "ax.set_ylabel(\"temp in K\")\n",
    "plt.show()"
   ]
  },
  {
   "cell_type": "markdown",
   "metadata": {},
   "source": [
    "## 3.2. Results\n",
    "As can be observed above, the feedwater flowrate and steam flowrate leaving the drum increase due to the increase of heat duty. The recirculation flowrate decreases slightly due to the increase of the friction force inside the waterwall tubes, which is caused by the increase in vapor fraction.\n",
    "The recirculation ratio, defined as the ratio of flowrate of water in the circuity to the flowrate of the feedwater, decreases as heat duty increases.\n",
    "Finally, the slag layer temperature increases as the heat duty increases. Total heat transfer resistance includes the contributions from the slag layer, tube metal, and convection of the fluid with the slag layer as the highest contributor. Thus, since the slag thickness is fixed, the total heat transfer resistance does not change much. Therefore, as the heat duty is increased, the temperature difference between the slag layer and fluid becomes larger, while the fluid temperature remains almost constant."
   ]
  },
  {
   "cell_type": "code",
   "execution_count": null,
   "metadata": {},
   "outputs": [],
   "source": []
  }
 ],
 "metadata": {
  "kernelspec": {
   "display_name": "Python 3 (ipykernel)",
   "language": "python",
   "name": "python3"
  },
  "language_info": {
   "codemirror_mode": {
    "name": "ipython",
    "version": 3
   },
   "file_extension": ".py",
   "mimetype": "text/x-python",
   "name": "python",
   "nbconvert_exporter": "python",
   "pygments_lexer": "ipython3",
   "version": "3.9.12"
  }
 },
 "nbformat": 4,
 "nbformat_minor": 4
}
