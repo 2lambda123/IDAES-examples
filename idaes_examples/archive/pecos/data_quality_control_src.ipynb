{
 "cells": [
  {
   "cell_type": "code",
   "execution_count": null,
   "id": "0",
   "metadata": {
    "tags": [
     "header",
     "hide-cell"
    ]
   },
   "outputs": [],
   "source": [
    "###############################################################################\n",
    "# The Institute for the Design of Advanced Energy Systems Integrated Platform\n",
    "# Framework (IDAES IP) was produced under the DOE Institute for the\n",
    "# Design of Advanced Energy Systems (IDAES), and is copyright (c) 2018-2022\n",
    "# by the software owners: The Regents of the University of California, through\n",
    "# Lawrence Berkeley National Laboratory,  National Technology & Engineering\n",
    "# Solutions of Sandia, LLC, Carnegie Mellon University, West Virginia University\n",
    "# Research Corporation, et al.  All rights reserved.\n",
    "#\n",
    "# Please see the files COPYRIGHT.md and LICENSE.md for full copyright and\n",
    "# license information.\n",
    "###############################################################################"
   ]
  },
  {
   "cell_type": "markdown",
   "metadata": {},
   "source": [
    "# Simple Data Quality Control Example\n",
    "\n",
    "Before using plant data in process models, quality control and fault detection analysis is recommended to identify potential data issues (i.e., missing or corrupt data) and data points that are not suitable for the intended analysis (i.e., abnormal plant behavior). This notebook demonstrates basic quality control analysis using a small data set. The analysis is run using [Pecos](https://pecos.readthedocs.io).\n",
    "\n",
    "Pecos is an open-source Python package designed to monitor performance of time series data, subject to a series of quality control tests. The software includes methods to run quality control tests defined by the user and generate reports which include test results and graphics. The analysis also produces \"clean data\" which removes data points that failed quality control inspection."
   ]
  },
  {
   "cell_type": "markdown",
   "metadata": {},
   "source": [
    "## 1.  Read Data\n",
    "\n",
    "For this example, the data is loaded from a csv file into a pandas DataFrame using the function `read_csv`. To use this data within Pecos, the data must have a timestamp index.  The index is converted to a timestamp using the `parse_dates` argument. \n",
    "\n",
    "The pandas `display.width` option is increased to 100 (the default value is 80) to make the quality control results easier to read in the Jupyter notebook."
   ]
  },
  {
   "cell_type": "code",
   "execution_count": null,
   "metadata": {},
   "outputs": [],
   "source": [
    "import pandas as pd\n",
    "\n",
    "pd.set_option(\"display.width\", 100)\n",
    "\n",
    "# Read plant data\n",
    "data = pd.read_csv(\"simple_data.csv\", index_col=0, parse_dates=True)\n",
    "print(data)"
   ]
  },
  {
   "cell_type": "markdown",
   "metadata": {},
   "source": [
    "## 2.  Run Quality Control Analysis\n",
    "\n",
    "The Pecos `PerformanceMonitoring` class is used to run the analysis.  The first step is to create an instance of the PerformanceMonitoring object and populate that object with the time series data."
   ]
  },
  {
   "cell_type": "code",
   "execution_count": null,
   "metadata": {},
   "outputs": [],
   "source": [
    "import pecos\n",
    "\n",
    "pm = pecos.monitoring.PerformanceMonitoring()\n",
    "pm.add_dataframe(data)"
   ]
  },
  {
   "cell_type": "markdown",
   "metadata": {},
   "source": [
    "The following basic quality control tests can then be run:\n",
    "\n",
    "* ``check_timestamp`` to see if data is monotonically increasing and sampled every 10 minutes (600 seconds)\n",
    "* ``check_missing`` to identify missing data\n",
    "* ``check_corrupt`` to identify corrupt data values of -999\n",
    "* ``check_range`` to see if data is between -5 and 5\n",
    "* ``check_outlier`` to see if data is within 3 standard deviations of the mean\n",
    "* ``check_delta`` to identify data that changes by less than 1 within a 30 minute moving window (1800 seconds)\n",
    "\n",
    "Pecos includes additional quality control tests. Users can also define custom quality control functions to be used in Pecos. "
   ]
  },
  {
   "cell_type": "code",
   "execution_count": null,
   "metadata": {},
   "outputs": [],
   "source": [
    "pm.check_timestamp(frequency=600)\n",
    "pm.check_missing()\n",
    "pm.check_corrupt(corrupt_values=[-999])\n",
    "pm.check_range(bound=[-5, 5])\n",
    "pm.check_outlier(bound=[-3, 3])\n",
    "pm.check_delta(bound=[1, None], window=1800)"
   ]
  },
  {
   "cell_type": "markdown",
   "metadata": {},
   "source": [
    "One advantage of using Pecos is that the results from individual quality control tests are collected in a table that can be exported to a text file and included in reports (as shown in Step 3).  The results are stored in `pm.test_results`.  This DataFrame is updated each time a quality control test is run.  "
   ]
  },
  {
   "cell_type": "code",
   "execution_count": null,
   "metadata": {},
   "outputs": [],
   "source": [
    "print(pm.test_results)"
   ]
  },
  {
   "cell_type": "code",
   "execution_count": null,
   "metadata": {
    "tags": [
     "testing"
    ]
   },
   "outputs": [],
   "source": [
    "import pytest\n",
    "\n",
    "assert pm.test_results.shape[0] == 8\n",
    "assert pm.test_results[\"Timesteps\"].sum() == 14"
   ]
  },
  {
   "cell_type": "markdown",
   "metadata": {},
   "source": [
    "The quality control test results are also used to produce \"clean data\" which removes data points that failed quality \n",
    "control inspection (replaced by NaN).  The cleaned data is stored in `pm.cleaned_data` and is generated based on current test results. \n",
    "Data points that do not pass quality control inspection can be replaced by various means (interpolation, data from \n",
    "a duplicate sensor, values from a model) before using the data for further analysis.\n",
    "Data replacement strategies are generally defined on a case-by-case basis. \n",
    "If large sections of the data failed quality control tests, the data might not be suitable for use."
   ]
  },
  {
   "cell_type": "code",
   "execution_count": null,
   "metadata": {},
   "outputs": [],
   "source": [
    "print(pm.cleaned_data)"
   ]
  },
  {
   "cell_type": "code",
   "execution_count": null,
   "metadata": {
    "tags": [
     "testing"
    ]
   },
   "outputs": [],
   "source": [
    "assert pm.cleaned_data[\"A\"].isna().sum() == 7\n",
    "assert pm.cleaned_data[\"B\"].isna().sum() == 3\n",
    "assert pm.cleaned_data[\"C\"].isna().sum() == 3\n",
    "assert pm.cleaned_data[\"D\"].isna().sum() == 0"
   ]
  },
  {
   "cell_type": "markdown",
   "metadata": {},
   "source": [
    "A boolean mask, stored in `pm.mask`, indicates which data points passed quality control inspection. The mask can be used to compute a quality control index (QCI) which indicates the percent of data points that pass quality control tests. "
   ]
  },
  {
   "cell_type": "code",
   "execution_count": null,
   "metadata": {},
   "outputs": [],
   "source": [
    "QCI = pecos.metrics.qci(mask=pm.mask)\n",
    "print(QCI)"
   ]
  },
  {
   "cell_type": "markdown",
   "metadata": {},
   "source": [
    "## 3.  Generate a Report\n",
    "\n",
    "Results can be included in HTML or LATEX formatted reports.  The ``plot_test_results`` function creates a graphic for each variable that includes a quality control test failure, highlighting data points that failed a test.\n",
    "The ``write_monitoring_report`` generates an report (HTML format by default) that includes the test results summary, quality control index, and graphics. \n",
    "The following example creates a HTML report file in current working directory named `simple_report.html`.\n",
    "The images are encoded into the HTML file using the `encode=True` option, the images can also be linked to image files."
   ]
  },
  {
   "cell_type": "code",
   "execution_count": null,
   "metadata": {},
   "outputs": [],
   "source": [
    "test_results_graphics = pecos.graphics.plot_test_results(\n",
    "    data=pm.data, test_results=pm.test_results\n",
    ")\n",
    "\n",
    "filename = pecos.io.write_monitoring_report(\n",
    "    data=pm.data,\n",
    "    test_results=pm.test_results,\n",
    "    metrics=QCI.to_frame(\"QCI\"),\n",
    "    test_results_graphics=test_results_graphics,\n",
    "    encode=True,\n",
    "    filename=\"simple_report.html\",\n",
    ")"
   ]
  },
  {
   "cell_type": "code",
   "execution_count": null,
   "metadata": {
    "tags": [
     "testing"
    ]
   },
   "outputs": [],
   "source": [
    "assert len(test_results_graphics) == 3\n",
    "assert \"simple_report.html\" in filename"
   ]
  },
  {
   "cell_type": "markdown",
   "metadata": {},
   "source": [
    "The HTML report file can be opened locally using an internet browser.  The following lines of code display the report within the Jupyter notebook."
   ]
  },
  {
   "cell_type": "code",
   "execution_count": null,
   "metadata": {},
   "outputs": [],
   "source": [
    "from IPython.core.display import HTML\n",
    "\n",
    "HTML(filename=filename)"
   ]
  }
 ],
 "metadata": {
  "celltoolbar": "Tags",
  "kernelspec": {
   "display_name": "Python 3",
   "language": "python",
   "name": "python3"
  },
  "language_info": {
   "codemirror_mode": {
    "name": "ipython",
    "version": 3
   },
   "file_extension": ".py",
   "mimetype": "text/x-python",
   "name": "python",
   "nbconvert_exporter": "python",
   "pygments_lexer": "ipython3",
   "version": "3.7.6"
  }
 },
 "nbformat": 4,
 "nbformat_minor": 2
}
