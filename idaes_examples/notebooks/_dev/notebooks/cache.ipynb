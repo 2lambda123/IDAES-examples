{
 "cells": [
  {
   "cell_type": "code",
   "execution_count": null,
   "id": "0",
   "metadata": {
    "tags": []
   },
   "outputs": [],
   "source": [
    "from jupyter_cache import get_cache\n",
    "cache = get_cache(\"nbcache\")\n",
    "import nbformat as nbf\n",
    "from pathlib import Path"
   ]
  },
  {
   "cell_type": "code",
   "execution_count": null,
   "id": "1",
   "metadata": {
    "tags": []
   },
   "outputs": [],
   "source": [
    "from idaes_examples.util import find_notebooks, read_toc, Ext"
   ]
  },
  {
   "cell_type": "code",
   "execution_count": null,
   "id": "2",
   "metadata": {
    "tags": []
   },
   "outputs": [],
   "source": [
    "toc = read_toc(Path(\".\"))\n",
    "toc"
   ]
  },
  {
   "cell_type": "code",
   "execution_count": null,
   "id": "3",
   "metadata": {
    "tags": []
   },
   "outputs": [],
   "source": [
    "def find_cb(path: Path, cache=None):\n",
    "    print(f\"Base notebook: {path}\")\n",
    "    name_base = path.stem[:-3]\n",
    "    count = 0\n",
    "    for ext in (Ext.DOC.value, Ext.TEST.value, Ext.EX.value, Ext.SOL.value, Ext.USER.value): \n",
    "        ext_name = name_base + ext + \".ipynb\"\n",
    "        ext_path = path.parent / ext_name\n",
    "        print(f\"{ext} notebook: {ext_path}\")\n",
    "        try:\n",
    "            node = nbf.read(ext_path, 4)\n",
    "            key, merged_nb = cache.merge_match_into_notebook(node)\n",
    "        except FileNotFoundError:\n",
    "            print(f\"{ext_path} not found\")\n",
    "        except KeyError:\n",
    "            print(f\"{ext_path} not matched in cache\")\n",
    "        else:\n",
    "            with open(ext_path, \"w\", encoding=\"utf-8\") as f:\n",
    "                nbf.write(merged_nb, f)\n",
    "            count += 1\n",
    "    return count"
   ]
  },
  {
   "cell_type": "code",
   "execution_count": null,
   "id": "4",
   "metadata": {
    "tags": []
   },
   "outputs": [],
   "source": [
    "find_notebooks(Path(\".\"), toc, find_cb, cache=cache)"
   ]
  },
  {
   "cell_type": "code",
   "execution_count": null,
   "id": "5",
   "metadata": {
    "tags": []
   },
   "outputs": [],
   "source": [
    "p = Path(\"ex/notebook_tags_example_src.ipynb\")"
   ]
  },
  {
   "cell_type": "code",
   "execution_count": null,
   "id": "6",
   "metadata": {
    "tags": []
   },
   "outputs": [],
   "source": [
    "cache = get_cache(Path(\"what a day\"))"
   ]
  },
  {
   "cell_type": "code",
   "execution_count": null,
   "id": "7",
   "metadata": {
    "tags": []
   },
   "outputs": [],
   "source": [
    "cache."
   ]
  },
  {
   "cell_type": "code",
   "execution_count": null,
   "id": "8",
   "metadata": {
    "tags": []
   },
   "outputs": [],
   "source": [
    "p.stem"
   ]
  },
  {
   "cell_type": "code",
   "execution_count": null,
   "id": "9",
   "metadata": {
    "tags": []
   },
   "outputs": [],
   "source": [
    "p.parent / p.name"
   ]
  },
  {
   "cell_type": "code",
   "execution_count": null,
   "id": "10",
   "metadata": {},
   "outputs": [],
   "source": []
  }
 ],
 "metadata": {
  "kernelspec": {
   "display_name": "Python 3 (ipykernel)",
   "language": "python",
   "name": "python3"
  },
  "language_info": {
   "codemirror_mode": {
    "name": "ipython",
    "version": 3
   },
   "file_extension": ".py",
   "mimetype": "text/x-python",
   "name": "python",
   "nbconvert_exporter": "python",
   "pygments_lexer": "ipython3",
   "version": "3.10.9"
  }
 },
 "nbformat": 4,
 "nbformat_minor": 5
}
